{
 "cells": [
  {
   "cell_type": "code",
   "execution_count": null,
   "metadata": {},
   "outputs": [],
   "source": [
    "# default_exp keras.datasets"
   ]
  },
  {
   "cell_type": "markdown",
   "metadata": {},
   "source": [
    "# keras.callbacks\n",
    "\n",
    "> Contains Callbacks that can be used with Tf.keras(TO DO) and Keras."
   ]
  },
  {
   "cell_type": "code",
   "execution_count": null,
   "metadata": {},
   "outputs": [],
   "source": [
    "#hide\n",
    "from nbdev.showdoc import *"
   ]
  },
  {
   "cell_type": "code",
   "execution_count": null,
   "metadata": {},
   "outputs": [
    {
     "name": "stderr",
     "output_type": "stream",
     "text": [
      "Using TensorFlow backend.\n"
     ]
    }
   ],
   "source": [
    "#export\n",
    "def get_data(size,batch_size,datagen):\n",
    "    '''\n",
    "    Function to Get Train and Validation Generator based in the Size and batch size passed\n",
    "    sz - Size of the image to be passed in target size\n",
    "    batch_size - batch size\n",
    "    datagen - ImageDataGenerator Instance which contains augmentation details\n",
    "    '''\n",
    "    train_generator = datagen.flow_from_directory(train_path,target_size=(sz, sz),\n",
    "      batch_size=bs,class_mode='categorical',shuffle=True)\n",
    "    # read the Validation data from the file\n",
    "    val_df=pd.read_csv(val_labels,sep='\\t',header=None,usecols=[0,1], names=['filename', 'class'])\n",
    "    \n",
    "    validation_generator=datagen.flow_from_dataframe(dataframe=val_df, directory=val_path,\n",
    "                                               x_col=\"filename\", y_col=\"class\", class_mode=\"categorical\",\n",
    "                                               target_size=(sz,sz), batch_size=bs,shuffle=True)\n",
    "    return train_generator,validation_generator\n",
    "    \n",
    "    \n",
    "    \n",
    "# Colab Environment Only\n",
    "def model_totpu(model,optim,loss,metrics):\n",
    "    tpu_model = tf.contrib.tpu.keras_to_tpu_model(model,\n",
    "                    strategy=tf.contrib.tpu.TPUDistributionStrategy(tf.contrib.cluster_resolver.TPUClusterResolver(tpu='grpc://' + os.environ['COLAB_TPU_ADDR'])\n",
    "                ))\n",
    "    tpu_model.compile(optimizer=optim,loss=loss,  metrics=metrics)\n",
    "    return tpu_model"
   ]
  },
  {
   "cell_type": "code",
   "execution_count": null,
   "metadata": {},
   "outputs": [],
   "source": []
  }
 ],
 "metadata": {
  "kernelspec": {
   "display_name": "Python 3",
   "language": "python",
   "name": "python3"
  }
 },
 "nbformat": 4,
 "nbformat_minor": 2
}
