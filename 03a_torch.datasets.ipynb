{
 "cells": [
  {
   "cell_type": "code",
   "execution_count": null,
   "metadata": {},
   "outputs": [],
   "source": [
    "# default_exp torch.datasets"
   ]
  },
  {
   "cell_type": "markdown",
   "metadata": {},
   "source": [
    "# dialga.dataset\n",
    "\n",
    "> Contains commonly used dataset operations which include splitting and creation of validation sets based on various stratergies."
   ]
  },
  {
   "cell_type": "code",
   "execution_count": null,
   "metadata": {},
   "outputs": [],
   "source": [
    "#hide\n",
    "from nbdev.showdoc import *"
   ]
  },
  {
   "cell_type": "code",
   "execution_count": null,
   "metadata": {},
   "outputs": [],
   "source": [
    "#export\n",
    "from torch.utils.data import Dataset #,DataLoader\n",
    "\n",
    "\n",
    "class FilteredDataset(Dataset):\n",
    "    '''\n",
    "    dataset : Any Pytorch Dataset \n",
    "    wanted_labels : Iterable Containning the labels that are required\n",
    "\n",
    "    Eg: \n",
    "    label_5_dataset = FilteredDataset(MNIST(root='',download=True), [5])\n",
    "    print(len(label_5_dataset))\n",
    "    '''\n",
    "    def __init__(self, dataset, wanted_labels=[]):\n",
    "        self.parent = dataset\n",
    "        indices = []\n",
    "        for index, (img, lab) in enumerate(dataset):\n",
    "            if lab in wanted_labels:\n",
    "                indices.append(index)        \n",
    "        self.indices = indices\n",
    "\n",
    "    def __getitem__(self, index):\n",
    "        return self.parent[self.indices[index]]\n",
    "\n",
    "    def __len__(self):\n",
    "        return len(self.indices)\n",
    "\n"
   ]
  },
  {
   "cell_type": "code",
   "execution_count": null,
   "metadata": {},
   "outputs": [],
   "source": []
  }
 ],
 "metadata": {
  "kernelspec": {
   "display_name": "Python 3",
   "language": "python",
   "name": "python3"
  }
 },
 "nbformat": 4,
 "nbformat_minor": 4
}
